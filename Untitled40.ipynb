{
  "nbformat": 4,
  "nbformat_minor": 0,
  "metadata": {
    "colab": {
      "provenance": [],
      "authorship_tag": "ABX9TyOeVyZscHZhCEjpRwHMTIVT",
      "include_colab_link": true
    },
    "kernelspec": {
      "name": "python3",
      "display_name": "Python 3"
    },
    "language_info": {
      "name": "python"
    }
  },
  "cells": [
    {
      "cell_type": "markdown",
      "metadata": {
        "id": "view-in-github",
        "colab_type": "text"
      },
      "source": [
        "<a href=\"https://colab.research.google.com/github/Farazmghm/Real-estate1/blob/main/Untitled40.ipynb\" target=\"_parent\"><img src=\"https://colab.research.google.com/assets/colab-badge.svg\" alt=\"Open In Colab\"/></a>"
      ]
    },
    {
      "cell_type": "code",
      "execution_count": null,
      "metadata": {
        "colab": {
          "base_uri": "https://localhost:8080/"
        },
        "id": "II6V6Tc_eePO",
        "outputId": "b670b307-bd85-4cb4-9a2c-7c6279a8ca50"
      },
      "outputs": [
        {
          "output_type": "stream",
          "name": "stdout",
          "text": [
            "5->2->1\n"
          ]
        }
      ],
      "source": [
        "class Node:\n",
        "  def __init__(self,data):\n",
        "    self.data=data\n",
        "    self.next=None\n",
        "\n",
        "class linked_list:\n",
        "  def __init__(self):\n",
        "    self.head=None\n",
        "\n",
        "  def push(self,data):\n",
        "    new_data=Node(data)\n",
        "    new_data.next=self.head\n",
        "    self.head=new_data\n",
        "\n",
        "  def append(self,data):\n",
        "    new_node=Node(data)\n",
        "    temp=self.head\n",
        "    while temp.next:\n",
        "      temp=temp.next:\n",
        "      else:\n",
        "        temp.next=new_node\n",
        "\n",
        "  def __repr__(self) -> str:\n",
        "    str1=\"\"\n",
        "    temp=self.head\n",
        "    while temp.next:\n",
        "      str1+=str(temp.data)+\"->\"\n",
        "      temp=temp.next\n",
        "    else:\n",
        "      str1+=str(temp.data)\n",
        "      return str1\n",
        "\n",
        "\n",
        "ll=linked_list()\n",
        "ll.push(1)\n",
        "ll.push(2)\n",
        "ll.push(5)\n",
        "print(ll)\n",
        "\n"
      ]
    },
    {
      "cell_type": "code",
      "source": [],
      "metadata": {
        "id": "5oTXq_L3gJ19"
      },
      "execution_count": null,
      "outputs": []
    }
  ]
}
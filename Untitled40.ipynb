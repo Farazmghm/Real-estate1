{
  "nbformat": 4,
  "nbformat_minor": 0,
  "metadata": {
    "colab": {
      "provenance": [],
      "authorship_tag": "ABX9TyNXW5OWp+n9UVQAcE1Nsyw2",
      "include_colab_link": true
    },
    "kernelspec": {
      "name": "python3",
      "display_name": "Python 3"
    },
    "language_info": {
      "name": "python"
    }
  },
  "cells": [
    {
      "cell_type": "markdown",
      "metadata": {
        "id": "view-in-github",
        "colab_type": "text"
      },
      "source": [
        "<a href=\"https://colab.research.google.com/github/Farazmghm/Real-estate1/blob/main/Untitled40.ipynb\" target=\"_parent\"><img src=\"https://colab.research.google.com/assets/colab-badge.svg\" alt=\"Open In Colab\"/></a>"
      ]
    },
    {
      "cell_type": "code",
      "execution_count": 6,
      "metadata": {
        "colab": {
          "base_uri": "https://localhost:8080/"
        },
        "id": "II6V6Tc_eePO",
        "outputId": "adc3df1b-b374-4ccc-9943-dee79a758735"
      },
      "outputs": [
        {
          "output_type": "stream",
          "name": "stdout",
          "text": [
            "5\n",
            "2\n",
            "1\n"
          ]
        }
      ],
      "source": [
        "class Node:\n",
        "  def __init__(self,data):\n",
        "    self.data=data\n",
        "    self.next=None\n",
        "\n",
        "class linked_list:\n",
        "  def __init__(self):\n",
        "    self.head=None\n",
        "\n",
        "  def push(self,data):\n",
        "    new_data=Node(data)\n",
        "    new_data.next=self.head\n",
        "    self.head=new_data\n",
        "\n",
        "ll=linked_list()\n",
        "ll.push(1)\n",
        "ll.push(2)\n",
        "ll.push(5)\n",
        "print(ll.head.data)\n",
        "print(ll.head.next.data)\n",
        "print(ll.head.next.next.data)\n"
      ]
    },
    {
      "cell_type": "code",
      "source": [],
      "metadata": {
        "id": "5oTXq_L3gJ19"
      },
      "execution_count": null,
      "outputs": []
    }
  ]
}
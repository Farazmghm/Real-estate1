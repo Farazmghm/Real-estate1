{
  "nbformat": 4,
  "nbformat_minor": 0,
  "metadata": {
    "colab": {
      "provenance": [],
      "authorship_tag": "ABX9TyNBec6fSH+cUXMO+e/9lcBt",
      "include_colab_link": true
    },
    "kernelspec": {
      "name": "python3",
      "display_name": "Python 3"
    },
    "language_info": {
      "name": "python"
    }
  },
  "cells": [
    {
      "cell_type": "markdown",
      "metadata": {
        "id": "view-in-github",
        "colab_type": "text"
      },
      "source": [
        "<a href=\"https://colab.research.google.com/github/Farazmghm/Real-estate1/blob/main/Untitled40.ipynb\" target=\"_parent\"><img src=\"https://colab.research.google.com/assets/colab-badge.svg\" alt=\"Open In Colab\"/></a>"
      ]
    },
    {
      "cell_type": "code",
      "execution_count": 1,
      "metadata": {
        "colab": {
          "base_uri": "https://localhost:8080/"
        },
        "id": "II6V6Tc_eePO",
        "outputId": "53fb5668-cccc-4687-c624-09d0c8e9ccbd"
      },
      "outputs": [
        {
          "output_type": "stream",
          "name": "stdout",
          "text": [
            "5->2->1\n"
          ]
        }
      ],
      "source": [
        "class Node:\n",
        "  def __init__(self,data):\n",
        "    self.data=data\n",
        "    self.next=None\n",
        "\n",
        "class linked_list:\n",
        "  def __init__(self):\n",
        "    self.head=None\n",
        "\n",
        "  def push(self,data):\n",
        "    new_data=Node(data)\n",
        "    new_data.next=self.head\n",
        "    self.head=new_data\n",
        "\n",
        "  def append(self,data):\n",
        "    new_node=Node(data)\n",
        "    temp=self.head\n",
        "    while temp.next:\n",
        "      temp=temp.next\n",
        "    else:\n",
        "        temp.next=new_node\n",
        "\n",
        "  def isempty(self):\n",
        "    return bool(self.head)\n",
        "  def insert(self,data,index):\n",
        "    if index<=0:\n",
        "      self.push(data)\n",
        "      if index>=self.lenght-1:\n",
        "        self.append(data)\n",
        "      else:\n",
        "        temp=pre=self.head\n",
        "        while index:\n",
        "          pre=temp\n",
        "          temp=temp.next\n",
        "          index-=1\n",
        "        else:\n",
        "          new_node=Node(data)\n",
        "          new_node.next=temp\n",
        "          pre.next=new_node\n",
        "          self.lenght+=1\n",
        "\n",
        "\n",
        "  def __repr__(self) -> str:\n",
        "    str1=\"\"\n",
        "    temp=self.head\n",
        "    while temp.next:\n",
        "      str1+=str(temp.data)+\"->\"\n",
        "      temp=temp.next\n",
        "    else:\n",
        "      str1+=str(temp.data)\n",
        "      return str1\n",
        "\n",
        "\n",
        "ll=linked_list()\n",
        "ll.push(1)\n",
        "ll.push(2)\n",
        "ll.push(5)\n",
        "print(ll)\n",
        "\n"
      ]
    },
    {
      "cell_type": "code",
      "source": [],
      "metadata": {
        "id": "5oTXq_L3gJ19"
      },
      "execution_count": null,
      "outputs": []
    }
  ]
}
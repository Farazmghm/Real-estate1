{
  "nbformat": 4,
  "nbformat_minor": 0,
  "metadata": {
    "colab": {
      "provenance": [],
      "toc_visible": true,
      "authorship_tag": "ABX9TyP3VENpIyXpECDh59P+RbTS",
      "include_colab_link": true
    },
    "kernelspec": {
      "name": "python3",
      "display_name": "Python 3"
    },
    "language_info": {
      "name": "python"
    }
  },
  "cells": [
    {
      "cell_type": "markdown",
      "metadata": {
        "id": "view-in-github",
        "colab_type": "text"
      },
      "source": [
        "<a href=\"https://colab.research.google.com/github/Farazmghm/Real-estate1/blob/main/Real-estate%20.ipynb\" target=\"_parent\"><img src=\"https://colab.research.google.com/assets/colab-badge.svg\" alt=\"Open In Colab\"/></a>"
      ]
    },
    {
      "cell_type": "markdown",
      "source": [
        "<h1 style=\"text-align: center;\">Real estate project Analysis and Prediction from Utah</h1>\n"
      ],
      "metadata": {
        "id": "YURYokPwGpJF"
      }
    },
    {
      "cell_type": "markdown",
      "source": [
        "###project contents\n",
        "1.  [introduction](#1)\n",
        "   * 1.1 [Column Descriptors](#2)\n",
        "   * 1.2 [ joining to Drive](#3)\n",
        "2. [First organization]\n",
        "\n",
        "   * 2.1  [Require library of Python](#4)\n",
        "   * 2.2 [Loading Dataset](#5)\n",
        "\n",
        "   * 2.3  [Exploration](#6)\n",
        "   * 2.4[Drop unuseful columns](#7)"
      ],
      "metadata": {
        "id": "k5lBGMJ83yWA"
      }
    },
    {
      "cell_type": "markdown",
      "source": [
        "## introduction <a id=1></a>\n",
        "This dataset contains real estate listings from Utah, comprising 4,440 entries and 14 columns. The data includes various attributes of properties such as type, description, year built, number of bedrooms and bathrooms, garage spaces, lot size, square footage, stories, listing price, and the date the property was last sold. The data was ethically mined from Realtor.com using an API provided by Apify."
      ],
      "metadata": {
        "id": "YBe-GFw3tUtc"
      }
    },
    {
      "cell_type": "markdown",
      "source": [
        "##Column Descriptors <a id=2></a>\n",
        "\n"
      ],
      "metadata": {
        "id": "JAQ1FnyoM4H3"
      }
    },
    {
      "cell_type": "markdown",
      "source": [
        "**type**: Type of property (e.g., single_family, land)\n",
        "\n",
        "**text**: Description of the property\n",
        "\n",
        "**year_built**: Year the property was built\n",
        "\n",
        "**beds**: Number of bedrooms\n",
        "\n",
        "**baths**: Total number of bathrooms\n",
        "\n",
        "**baths_full**: Number of full bathrooms\n",
        "\n",
        "**baths_half**: Number of half bathrooms\n",
        "\n",
        "**garage**: Number of garage spaces\n",
        "\n",
        "**lot_sqft**: Lot size in square feet\n",
        "\n",
        "**sqft**: Property size in square feet\n",
        "\n",
        "**stories**: Number of stories\n",
        "\n",
        "**lastSoldOn**: Date the property was last sold\n",
        "\n",
        "**listPrice**: Listing price of the property\n",
        "\n",
        "**status**: Current status of the property (e.g., for_sale)"
      ],
      "metadata": {
        "id": "ZRa-w3T8NG0v"
      }
    },
    {
      "cell_type": "markdown",
      "source": [],
      "metadata": {
        "id": "X16AOEyMNx_o"
      }
    },
    {
      "cell_type": "markdown",
      "source": [
        "#### 1.2 joining to Drive <a id= 3 ></a>\n",
        "\n"
      ],
      "metadata": {
        "id": "zgRikQdgNjYF"
      }
    },
    {
      "cell_type": "code",
      "execution_count": 2,
      "metadata": {
        "colab": {
          "base_uri": "https://localhost:8080/"
        },
        "id": "ye6NqASXJaKx",
        "outputId": "f3523d93-eb7a-4b11-d8bc-0df0be430a17"
      },
      "outputs": [
        {
          "output_type": "stream",
          "name": "stdout",
          "text": [
            "Mounted at /content/drive\n"
          ]
        }
      ],
      "source": [
        "from google.colab import drive\n",
        "drive.mount(\"/content/drive\")"
      ]
    },
    {
      "cell_type": "markdown",
      "source": [
        "#### 2.1 Require library of Python <a  id= 4 ></a>\n"
      ],
      "metadata": {
        "id": "UITP0bzKN3Q9"
      }
    },
    {
      "cell_type": "code",
      "source": [
        "import numpy as np\n",
        "import pandas as pd\n",
        "import matplotlib.pyplot as plt\n",
        "import seaborn as sns"
      ],
      "metadata": {
        "id": "1k7E4lUUJ8Gv"
      },
      "execution_count": 3,
      "outputs": []
    },
    {
      "cell_type": "markdown",
      "source": [
        "#### 2.2 Loading Dataset <a  id= 5></a>"
      ],
      "metadata": {
        "id": "HLimB28RUXfA"
      }
    },
    {
      "cell_type": "code",
      "source": [
        "df=pd.read_csv(\"/content/drive/MyDrive/real_estate_utah.csv\")\n",
        "df"
      ],
      "metadata": {
        "colab": {
          "base_uri": "https://localhost:8080/",
          "height": 1000
        },
        "id": "2uZGWrJhKcpB",
        "outputId": "bf895fa2-b996-4c82-ade9-b9c79dd4454f"
      },
      "execution_count": 8,
      "outputs": [
        {
          "output_type": "execute_result",
          "data": {
            "text/plain": [
              "               type                                               text  \\\n",
              "0     single_family  Escape to tranquility with this off-grid, unfi...   \n",
              "1     single_family  Beautiful home in the desirable Oak Hills and ...   \n",
              "2     single_family  Welcome to your new home, nestled in the heart...   \n",
              "3     single_family  Investment Opportunity. House needs some work ...   \n",
              "4              land  Deer Springs Ranch is an 8000 Ac Ranch in an H...   \n",
              "...             ...                                                ...   \n",
              "4435  single_family  New, move-in ready 3-bed 2-bath home by Zions ...   \n",
              "4436  single_family  Located in the new elite community of The Mant...   \n",
              "4437  single_family  Beautiful Maeser location, 3 bedroom, 2 bath h...   \n",
              "4438  single_family  NEW PRICE! Best Value on the Market! Quick Mov...   \n",
              "4439  single_family  Welcome to this beautiful custom built home th...   \n",
              "\n",
              "      year_built  beds  baths  baths_full  baths_half  garage  lot_sqft  \\\n",
              "0         2020.0   1.0    1.0         1.0         1.0     2.0   71438.0   \n",
              "1         1968.0   4.0    3.0         2.0         1.0     2.0   56628.0   \n",
              "2         1985.0   4.0    3.0         3.0         1.0     1.0   10019.0   \n",
              "3         1936.0   4.0    2.0         2.0         1.0     2.0   12632.0   \n",
              "4         2003.0   4.0    0.0         2.0         1.0     2.0  872071.0   \n",
              "...          ...   ...    ...         ...         ...     ...       ...   \n",
              "4435      2024.0   3.0    2.0         2.0         1.0     2.0    5227.0   \n",
              "4436      2024.0   3.0    2.0         2.0         1.0     2.0    7405.0   \n",
              "4437      1931.0   3.0    2.0         1.0         1.0     2.0   18295.0   \n",
              "4438      2021.0   6.0    3.0         3.0         1.0     2.0    8712.0   \n",
              "4439      2015.0   6.0    4.0         3.0         1.0     3.0   23958.0   \n",
              "\n",
              "        sqft  stories  lastSoldOn  listPrice    status  \n",
              "0      696.0      2.0  2018-05-31    90000.0  for_sale  \n",
              "1     3700.0      2.0  2018-05-31   799000.0  for_sale  \n",
              "2     3528.0      2.0  2018-05-31   389900.0  for_sale  \n",
              "3     2097.0      2.0  2018-04-16   300000.0  for_sale  \n",
              "4     2400.0      2.0  2018-05-31    70000.0  for_sale  \n",
              "...      ...      ...         ...        ...       ...  \n",
              "4435  1542.0      1.0  2018-05-31   465000.0  for_sale  \n",
              "4436  4230.0      3.0  2018-05-31   570465.0  for_sale  \n",
              "4437  1903.0      2.0  2008-09-30   475000.0  for_sale  \n",
              "4438  4000.0      2.0  2021-09-08   629900.0  for_sale  \n",
              "4439  4382.0      3.0  2016-02-26  1200000.0  for_sale  \n",
              "\n",
              "[4440 rows x 14 columns]"
            ],
            "text/html": [
              "\n",
              "  <div id=\"df-e1a6c6ab-e91c-44d8-9ace-5336d2c5ae3d\" class=\"colab-df-container\">\n",
              "    <div>\n",
              "<style scoped>\n",
              "    .dataframe tbody tr th:only-of-type {\n",
              "        vertical-align: middle;\n",
              "    }\n",
              "\n",
              "    .dataframe tbody tr th {\n",
              "        vertical-align: top;\n",
              "    }\n",
              "\n",
              "    .dataframe thead th {\n",
              "        text-align: right;\n",
              "    }\n",
              "</style>\n",
              "<table border=\"1\" class=\"dataframe\">\n",
              "  <thead>\n",
              "    <tr style=\"text-align: right;\">\n",
              "      <th></th>\n",
              "      <th>type</th>\n",
              "      <th>text</th>\n",
              "      <th>year_built</th>\n",
              "      <th>beds</th>\n",
              "      <th>baths</th>\n",
              "      <th>baths_full</th>\n",
              "      <th>baths_half</th>\n",
              "      <th>garage</th>\n",
              "      <th>lot_sqft</th>\n",
              "      <th>sqft</th>\n",
              "      <th>stories</th>\n",
              "      <th>lastSoldOn</th>\n",
              "      <th>listPrice</th>\n",
              "      <th>status</th>\n",
              "    </tr>\n",
              "  </thead>\n",
              "  <tbody>\n",
              "    <tr>\n",
              "      <th>0</th>\n",
              "      <td>single_family</td>\n",
              "      <td>Escape to tranquility with this off-grid, unfi...</td>\n",
              "      <td>2020.0</td>\n",
              "      <td>1.0</td>\n",
              "      <td>1.0</td>\n",
              "      <td>1.0</td>\n",
              "      <td>1.0</td>\n",
              "      <td>2.0</td>\n",
              "      <td>71438.0</td>\n",
              "      <td>696.0</td>\n",
              "      <td>2.0</td>\n",
              "      <td>2018-05-31</td>\n",
              "      <td>90000.0</td>\n",
              "      <td>for_sale</td>\n",
              "    </tr>\n",
              "    <tr>\n",
              "      <th>1</th>\n",
              "      <td>single_family</td>\n",
              "      <td>Beautiful home in the desirable Oak Hills and ...</td>\n",
              "      <td>1968.0</td>\n",
              "      <td>4.0</td>\n",
              "      <td>3.0</td>\n",
              "      <td>2.0</td>\n",
              "      <td>1.0</td>\n",
              "      <td>2.0</td>\n",
              "      <td>56628.0</td>\n",
              "      <td>3700.0</td>\n",
              "      <td>2.0</td>\n",
              "      <td>2018-05-31</td>\n",
              "      <td>799000.0</td>\n",
              "      <td>for_sale</td>\n",
              "    </tr>\n",
              "    <tr>\n",
              "      <th>2</th>\n",
              "      <td>single_family</td>\n",
              "      <td>Welcome to your new home, nestled in the heart...</td>\n",
              "      <td>1985.0</td>\n",
              "      <td>4.0</td>\n",
              "      <td>3.0</td>\n",
              "      <td>3.0</td>\n",
              "      <td>1.0</td>\n",
              "      <td>1.0</td>\n",
              "      <td>10019.0</td>\n",
              "      <td>3528.0</td>\n",
              "      <td>2.0</td>\n",
              "      <td>2018-05-31</td>\n",
              "      <td>389900.0</td>\n",
              "      <td>for_sale</td>\n",
              "    </tr>\n",
              "    <tr>\n",
              "      <th>3</th>\n",
              "      <td>single_family</td>\n",
              "      <td>Investment Opportunity. House needs some work ...</td>\n",
              "      <td>1936.0</td>\n",
              "      <td>4.0</td>\n",
              "      <td>2.0</td>\n",
              "      <td>2.0</td>\n",
              "      <td>1.0</td>\n",
              "      <td>2.0</td>\n",
              "      <td>12632.0</td>\n",
              "      <td>2097.0</td>\n",
              "      <td>2.0</td>\n",
              "      <td>2018-04-16</td>\n",
              "      <td>300000.0</td>\n",
              "      <td>for_sale</td>\n",
              "    </tr>\n",
              "    <tr>\n",
              "      <th>4</th>\n",
              "      <td>land</td>\n",
              "      <td>Deer Springs Ranch is an 8000 Ac Ranch in an H...</td>\n",
              "      <td>2003.0</td>\n",
              "      <td>4.0</td>\n",
              "      <td>0.0</td>\n",
              "      <td>2.0</td>\n",
              "      <td>1.0</td>\n",
              "      <td>2.0</td>\n",
              "      <td>872071.0</td>\n",
              "      <td>2400.0</td>\n",
              "      <td>2.0</td>\n",
              "      <td>2018-05-31</td>\n",
              "      <td>70000.0</td>\n",
              "      <td>for_sale</td>\n",
              "    </tr>\n",
              "    <tr>\n",
              "      <th>...</th>\n",
              "      <td>...</td>\n",
              "      <td>...</td>\n",
              "      <td>...</td>\n",
              "      <td>...</td>\n",
              "      <td>...</td>\n",
              "      <td>...</td>\n",
              "      <td>...</td>\n",
              "      <td>...</td>\n",
              "      <td>...</td>\n",
              "      <td>...</td>\n",
              "      <td>...</td>\n",
              "      <td>...</td>\n",
              "      <td>...</td>\n",
              "      <td>...</td>\n",
              "    </tr>\n",
              "    <tr>\n",
              "      <th>4435</th>\n",
              "      <td>single_family</td>\n",
              "      <td>New, move-in ready 3-bed 2-bath home by Zions ...</td>\n",
              "      <td>2024.0</td>\n",
              "      <td>3.0</td>\n",
              "      <td>2.0</td>\n",
              "      <td>2.0</td>\n",
              "      <td>1.0</td>\n",
              "      <td>2.0</td>\n",
              "      <td>5227.0</td>\n",
              "      <td>1542.0</td>\n",
              "      <td>1.0</td>\n",
              "      <td>2018-05-31</td>\n",
              "      <td>465000.0</td>\n",
              "      <td>for_sale</td>\n",
              "    </tr>\n",
              "    <tr>\n",
              "      <th>4436</th>\n",
              "      <td>single_family</td>\n",
              "      <td>Located in the new elite community of The Mant...</td>\n",
              "      <td>2024.0</td>\n",
              "      <td>3.0</td>\n",
              "      <td>2.0</td>\n",
              "      <td>2.0</td>\n",
              "      <td>1.0</td>\n",
              "      <td>2.0</td>\n",
              "      <td>7405.0</td>\n",
              "      <td>4230.0</td>\n",
              "      <td>3.0</td>\n",
              "      <td>2018-05-31</td>\n",
              "      <td>570465.0</td>\n",
              "      <td>for_sale</td>\n",
              "    </tr>\n",
              "    <tr>\n",
              "      <th>4437</th>\n",
              "      <td>single_family</td>\n",
              "      <td>Beautiful Maeser location, 3 bedroom, 2 bath h...</td>\n",
              "      <td>1931.0</td>\n",
              "      <td>3.0</td>\n",
              "      <td>2.0</td>\n",
              "      <td>1.0</td>\n",
              "      <td>1.0</td>\n",
              "      <td>2.0</td>\n",
              "      <td>18295.0</td>\n",
              "      <td>1903.0</td>\n",
              "      <td>2.0</td>\n",
              "      <td>2008-09-30</td>\n",
              "      <td>475000.0</td>\n",
              "      <td>for_sale</td>\n",
              "    </tr>\n",
              "    <tr>\n",
              "      <th>4438</th>\n",
              "      <td>single_family</td>\n",
              "      <td>NEW PRICE! Best Value on the Market! Quick Mov...</td>\n",
              "      <td>2021.0</td>\n",
              "      <td>6.0</td>\n",
              "      <td>3.0</td>\n",
              "      <td>3.0</td>\n",
              "      <td>1.0</td>\n",
              "      <td>2.0</td>\n",
              "      <td>8712.0</td>\n",
              "      <td>4000.0</td>\n",
              "      <td>2.0</td>\n",
              "      <td>2021-09-08</td>\n",
              "      <td>629900.0</td>\n",
              "      <td>for_sale</td>\n",
              "    </tr>\n",
              "    <tr>\n",
              "      <th>4439</th>\n",
              "      <td>single_family</td>\n",
              "      <td>Welcome to this beautiful custom built home th...</td>\n",
              "      <td>2015.0</td>\n",
              "      <td>6.0</td>\n",
              "      <td>4.0</td>\n",
              "      <td>3.0</td>\n",
              "      <td>1.0</td>\n",
              "      <td>3.0</td>\n",
              "      <td>23958.0</td>\n",
              "      <td>4382.0</td>\n",
              "      <td>3.0</td>\n",
              "      <td>2016-02-26</td>\n",
              "      <td>1200000.0</td>\n",
              "      <td>for_sale</td>\n",
              "    </tr>\n",
              "  </tbody>\n",
              "</table>\n",
              "<p>4440 rows × 14 columns</p>\n",
              "</div>\n",
              "    <div class=\"colab-df-buttons\">\n",
              "\n",
              "  <div class=\"colab-df-container\">\n",
              "    <button class=\"colab-df-convert\" onclick=\"convertToInteractive('df-e1a6c6ab-e91c-44d8-9ace-5336d2c5ae3d')\"\n",
              "            title=\"Convert this dataframe to an interactive table.\"\n",
              "            style=\"display:none;\">\n",
              "\n",
              "  <svg xmlns=\"http://www.w3.org/2000/svg\" height=\"24px\" viewBox=\"0 -960 960 960\">\n",
              "    <path d=\"M120-120v-720h720v720H120Zm60-500h600v-160H180v160Zm220 220h160v-160H400v160Zm0 220h160v-160H400v160ZM180-400h160v-160H180v160Zm440 0h160v-160H620v160ZM180-180h160v-160H180v160Zm440 0h160v-160H620v160Z\"/>\n",
              "  </svg>\n",
              "    </button>\n",
              "\n",
              "  <style>\n",
              "    .colab-df-container {\n",
              "      display:flex;\n",
              "      gap: 12px;\n",
              "    }\n",
              "\n",
              "    .colab-df-convert {\n",
              "      background-color: #E8F0FE;\n",
              "      border: none;\n",
              "      border-radius: 50%;\n",
              "      cursor: pointer;\n",
              "      display: none;\n",
              "      fill: #1967D2;\n",
              "      height: 32px;\n",
              "      padding: 0 0 0 0;\n",
              "      width: 32px;\n",
              "    }\n",
              "\n",
              "    .colab-df-convert:hover {\n",
              "      background-color: #E2EBFA;\n",
              "      box-shadow: 0px 1px 2px rgba(60, 64, 67, 0.3), 0px 1px 3px 1px rgba(60, 64, 67, 0.15);\n",
              "      fill: #174EA6;\n",
              "    }\n",
              "\n",
              "    .colab-df-buttons div {\n",
              "      margin-bottom: 4px;\n",
              "    }\n",
              "\n",
              "    [theme=dark] .colab-df-convert {\n",
              "      background-color: #3B4455;\n",
              "      fill: #D2E3FC;\n",
              "    }\n",
              "\n",
              "    [theme=dark] .colab-df-convert:hover {\n",
              "      background-color: #434B5C;\n",
              "      box-shadow: 0px 1px 3px 1px rgba(0, 0, 0, 0.15);\n",
              "      filter: drop-shadow(0px 1px 2px rgba(0, 0, 0, 0.3));\n",
              "      fill: #FFFFFF;\n",
              "    }\n",
              "  </style>\n",
              "\n",
              "    <script>\n",
              "      const buttonEl =\n",
              "        document.querySelector('#df-e1a6c6ab-e91c-44d8-9ace-5336d2c5ae3d button.colab-df-convert');\n",
              "      buttonEl.style.display =\n",
              "        google.colab.kernel.accessAllowed ? 'block' : 'none';\n",
              "\n",
              "      async function convertToInteractive(key) {\n",
              "        const element = document.querySelector('#df-e1a6c6ab-e91c-44d8-9ace-5336d2c5ae3d');\n",
              "        const dataTable =\n",
              "          await google.colab.kernel.invokeFunction('convertToInteractive',\n",
              "                                                    [key], {});\n",
              "        if (!dataTable) return;\n",
              "\n",
              "        const docLinkHtml = 'Like what you see? Visit the ' +\n",
              "          '<a target=\"_blank\" href=https://colab.research.google.com/notebooks/data_table.ipynb>data table notebook</a>'\n",
              "          + ' to learn more about interactive tables.';\n",
              "        element.innerHTML = '';\n",
              "        dataTable['output_type'] = 'display_data';\n",
              "        await google.colab.output.renderOutput(dataTable, element);\n",
              "        const docLink = document.createElement('div');\n",
              "        docLink.innerHTML = docLinkHtml;\n",
              "        element.appendChild(docLink);\n",
              "      }\n",
              "    </script>\n",
              "  </div>\n",
              "\n",
              "\n",
              "<div id=\"df-dfe418b8-1079-4fc0-9b19-e122dd3001ba\">\n",
              "  <button class=\"colab-df-quickchart\" onclick=\"quickchart('df-dfe418b8-1079-4fc0-9b19-e122dd3001ba')\"\n",
              "            title=\"Suggest charts\"\n",
              "            style=\"display:none;\">\n",
              "\n",
              "<svg xmlns=\"http://www.w3.org/2000/svg\" height=\"24px\"viewBox=\"0 0 24 24\"\n",
              "     width=\"24px\">\n",
              "    <g>\n",
              "        <path d=\"M19 3H5c-1.1 0-2 .9-2 2v14c0 1.1.9 2 2 2h14c1.1 0 2-.9 2-2V5c0-1.1-.9-2-2-2zM9 17H7v-7h2v7zm4 0h-2V7h2v10zm4 0h-2v-4h2v4z\"/>\n",
              "    </g>\n",
              "</svg>\n",
              "  </button>\n",
              "\n",
              "<style>\n",
              "  .colab-df-quickchart {\n",
              "      --bg-color: #E8F0FE;\n",
              "      --fill-color: #1967D2;\n",
              "      --hover-bg-color: #E2EBFA;\n",
              "      --hover-fill-color: #174EA6;\n",
              "      --disabled-fill-color: #AAA;\n",
              "      --disabled-bg-color: #DDD;\n",
              "  }\n",
              "\n",
              "  [theme=dark] .colab-df-quickchart {\n",
              "      --bg-color: #3B4455;\n",
              "      --fill-color: #D2E3FC;\n",
              "      --hover-bg-color: #434B5C;\n",
              "      --hover-fill-color: #FFFFFF;\n",
              "      --disabled-bg-color: #3B4455;\n",
              "      --disabled-fill-color: #666;\n",
              "  }\n",
              "\n",
              "  .colab-df-quickchart {\n",
              "    background-color: var(--bg-color);\n",
              "    border: none;\n",
              "    border-radius: 50%;\n",
              "    cursor: pointer;\n",
              "    display: none;\n",
              "    fill: var(--fill-color);\n",
              "    height: 32px;\n",
              "    padding: 0;\n",
              "    width: 32px;\n",
              "  }\n",
              "\n",
              "  .colab-df-quickchart:hover {\n",
              "    background-color: var(--hover-bg-color);\n",
              "    box-shadow: 0 1px 2px rgba(60, 64, 67, 0.3), 0 1px 3px 1px rgba(60, 64, 67, 0.15);\n",
              "    fill: var(--button-hover-fill-color);\n",
              "  }\n",
              "\n",
              "  .colab-df-quickchart-complete:disabled,\n",
              "  .colab-df-quickchart-complete:disabled:hover {\n",
              "    background-color: var(--disabled-bg-color);\n",
              "    fill: var(--disabled-fill-color);\n",
              "    box-shadow: none;\n",
              "  }\n",
              "\n",
              "  .colab-df-spinner {\n",
              "    border: 2px solid var(--fill-color);\n",
              "    border-color: transparent;\n",
              "    border-bottom-color: var(--fill-color);\n",
              "    animation:\n",
              "      spin 1s steps(1) infinite;\n",
              "  }\n",
              "\n",
              "  @keyframes spin {\n",
              "    0% {\n",
              "      border-color: transparent;\n",
              "      border-bottom-color: var(--fill-color);\n",
              "      border-left-color: var(--fill-color);\n",
              "    }\n",
              "    20% {\n",
              "      border-color: transparent;\n",
              "      border-left-color: var(--fill-color);\n",
              "      border-top-color: var(--fill-color);\n",
              "    }\n",
              "    30% {\n",
              "      border-color: transparent;\n",
              "      border-left-color: var(--fill-color);\n",
              "      border-top-color: var(--fill-color);\n",
              "      border-right-color: var(--fill-color);\n",
              "    }\n",
              "    40% {\n",
              "      border-color: transparent;\n",
              "      border-right-color: var(--fill-color);\n",
              "      border-top-color: var(--fill-color);\n",
              "    }\n",
              "    60% {\n",
              "      border-color: transparent;\n",
              "      border-right-color: var(--fill-color);\n",
              "    }\n",
              "    80% {\n",
              "      border-color: transparent;\n",
              "      border-right-color: var(--fill-color);\n",
              "      border-bottom-color: var(--fill-color);\n",
              "    }\n",
              "    90% {\n",
              "      border-color: transparent;\n",
              "      border-bottom-color: var(--fill-color);\n",
              "    }\n",
              "  }\n",
              "</style>\n",
              "\n",
              "  <script>\n",
              "    async function quickchart(key) {\n",
              "      const quickchartButtonEl =\n",
              "        document.querySelector('#' + key + ' button');\n",
              "      quickchartButtonEl.disabled = true;  // To prevent multiple clicks.\n",
              "      quickchartButtonEl.classList.add('colab-df-spinner');\n",
              "      try {\n",
              "        const charts = await google.colab.kernel.invokeFunction(\n",
              "            'suggestCharts', [key], {});\n",
              "      } catch (error) {\n",
              "        console.error('Error during call to suggestCharts:', error);\n",
              "      }\n",
              "      quickchartButtonEl.classList.remove('colab-df-spinner');\n",
              "      quickchartButtonEl.classList.add('colab-df-quickchart-complete');\n",
              "    }\n",
              "    (() => {\n",
              "      let quickchartButtonEl =\n",
              "        document.querySelector('#df-dfe418b8-1079-4fc0-9b19-e122dd3001ba button');\n",
              "      quickchartButtonEl.style.display =\n",
              "        google.colab.kernel.accessAllowed ? 'block' : 'none';\n",
              "    })();\n",
              "  </script>\n",
              "</div>\n",
              "    </div>\n",
              "  </div>\n"
            ],
            "application/vnd.google.colaboratory.intrinsic+json": {
              "type": "dataframe",
              "variable_name": "df",
              "summary": "{\n  \"name\": \"df\",\n  \"rows\": 4440,\n  \"fields\": [\n    {\n      \"column\": \"type\",\n      \"properties\": {\n        \"dtype\": \"category\",\n        \"num_unique_values\": 11,\n        \"samples\": [\n          \"condo_townhome_rowhome_coop\",\n          \"single_family\",\n          \"townhouse\"\n        ],\n        \"semantic_type\": \"\",\n        \"description\": \"\"\n      }\n    },\n    {\n      \"column\": \"text\",\n      \"properties\": {\n        \"dtype\": \"string\",\n        \"num_unique_values\": 3991,\n        \"samples\": [\n          \"This darling cabin is tucked away in the soaring pines and gorgeous aspen trees on an AMAZING, heavily-wooded, upper, 1.5 acre corner lot right next to Moose Willows and Moose Loop trails/common areas. With its lovely enclosed, covered porch, this awesome mountain getaway was made for peaceful evenings watching wildlife and listening to the relaxing sound of crackling fire in the wood-burning stove. Offers comfortable single-level living, an open floor plan with large, spacious bedrooms. Sleeps 12. Well cared for by ONLY one owner. Enjoy plenty of storage in the lean-to attached storage shed large enough to house two ATV's or snowmobiles. Sold furnished and ready for your immediate enjoyment! Enjoy convenient year-round access and a circular driveway that allows plenty of parking and easy turn-around. Endless outdoor activities surround you, including fishing, boating, world-class golf, phenomenal skiing, epic snowmobiling, hunting, ATV-ing and more! Only 55 minutes to the SLC airport and all of the wonderful amenities of the Heber Valley & Park City are just minutes away! Transform this GEM into your own personal mountain haven and start making memories of your own! Perfect for all seasons, this magical slice of heaven awaits!\",\n          \"Soak in the incredible lake and mountain views from this wonderful, rustic cabin offers! The warm embrace of this log cabin invites you to enjoy peaceful evenings filled with gorgeous sunsets and unbelievable wildlife. Recently sand-blasted, stained and re-chinked, this well-cared for cabin was built-solid and offers single level living with a main level primary bedroom with new flooring, gas fireplace, walk-in closet and updated bathroom with hanging barn doors. New quartz countertops and new Bosch appliances. The upstairs loft is large and open with beautiful exposed beams, tongue & groove vaulted ceilings and is perfect for entertaining complete with pool table and bar. Enjoy stargazing at night and lazy mornings sipping coffee on the brand new 1200 SQFT Trex deck. This mountain retreat offers plenty of rooms for house guests and has ample storage space. Paved driveway, RV parking, attached spacious 2-car garage and detached 1-car garage that's extra deep and has a lean-to shed for additional storage. Newer roof with new heat tape and new steam humidifier. Conveniently located off the main paved road and set back enough to experience peace and seclusion on a full acre with its own seasonal pond. Experience mountain living at its finest! Timber Lakes offers year round access and is surrounded by recreational activities at your fingertips including, world-class golf, phenomenal skiing, epic snowmobiling, hunting, hiking, mountain biking, ATV-ing and more! Only 55 minutes to the SLC airport and just minutes from all the wonderful amenities of the Heber Valley & Park City!\",\n          \"This listing is a neighboring property to Wal-Mart that includes two separate parcels that total 20.14 acres. There is a well right included that was drilled for AG use and six shares of Sevier Valley Canal Co. With Richfield City constantly expanding, this is a perfect location that will get a lot of attention.\"\n        ],\n        \"semantic_type\": \"\",\n        \"description\": \"\"\n      }\n    },\n    {\n      \"column\": \"year_built\",\n      \"properties\": {\n        \"dtype\": \"number\",\n        \"std\": 23.609066710609657,\n        \"min\": 1860.0,\n        \"max\": 2026.0,\n        \"num_unique_values\": 140,\n        \"samples\": [\n          1915.0,\n          1902.0,\n          2000.0\n        ],\n        \"semantic_type\": \"\",\n        \"description\": \"\"\n      }\n    },\n    {\n      \"column\": \"beds\",\n      \"properties\": {\n        \"dtype\": \"number\",\n        \"std\": 1.265647302015794,\n        \"min\": 1.0,\n        \"max\": 19.0,\n        \"num_unique_values\": 12,\n        \"samples\": [\n          11.0,\n          19.0,\n          1.0\n        ],\n        \"semantic_type\": \"\",\n        \"description\": \"\"\n      }\n    },\n    {\n      \"column\": \"baths\",\n      \"properties\": {\n        \"dtype\": \"number\",\n        \"std\": 1.7892384792386182,\n        \"min\": 0.0,\n        \"max\": 45.0,\n        \"num_unique_values\": 16,\n        \"samples\": [\n          1.0,\n          3.0,\n          5.0\n        ],\n        \"semantic_type\": \"\",\n        \"description\": \"\"\n      }\n    },\n    {\n      \"column\": \"baths_full\",\n      \"properties\": {\n        \"dtype\": \"number\",\n        \"std\": 1.165071299036761,\n        \"min\": 1.0,\n        \"max\": 45.0,\n        \"num_unique_values\": 14,\n        \"samples\": [\n          11.0,\n          45.0,\n          1.0\n        ],\n        \"semantic_type\": \"\",\n        \"description\": \"\"\n      }\n    },\n    {\n      \"column\": \"baths_half\",\n      \"properties\": {\n        \"dtype\": \"number\",\n        \"std\": 0.1946716437617045,\n        \"min\": 1.0,\n        \"max\": 6.0,\n        \"num_unique_values\": 5,\n        \"samples\": [\n          3.0,\n          4.0,\n          6.0\n        ],\n        \"semantic_type\": \"\",\n        \"description\": \"\"\n      }\n    },\n    {\n      \"column\": \"garage\",\n      \"properties\": {\n        \"dtype\": \"number\",\n        \"std\": 1.0248100936056082,\n        \"min\": 0.0,\n        \"max\": 20.0,\n        \"num_unique_values\": 16,\n        \"samples\": [\n          2.0,\n          1.0,\n          5.0\n        ],\n        \"semantic_type\": \"\",\n        \"description\": \"\"\n      }\n    },\n    {\n      \"column\": \"lot_sqft\",\n      \"properties\": {\n        \"dtype\": \"number\",\n        \"std\": 11344714.290519712,\n        \"min\": 436.0,\n        \"max\": 600953760.0,\n        \"num_unique_values\": 554,\n        \"samples\": [\n          76230.0,\n          230432.0,\n          101495.0\n        ],\n        \"semantic_type\": \"\",\n        \"description\": \"\"\n      }\n    },\n    {\n      \"column\": \"sqft\",\n      \"properties\": {\n        \"dtype\": \"number\",\n        \"std\": 1553.67643200099,\n        \"min\": 0.0,\n        \"max\": 20905.0,\n        \"num_unique_values\": 2176,\n        \"samples\": [\n          2615.0,\n          5760.0,\n          2592.0\n        ],\n        \"semantic_type\": \"\",\n        \"description\": \"\"\n      }\n    },\n    {\n      \"column\": \"stories\",\n      \"properties\": {\n        \"dtype\": \"number\",\n        \"std\": 0.6291341799245629,\n        \"min\": 1.0,\n        \"max\": 4.0,\n        \"num_unique_values\": 4,\n        \"samples\": [\n          1.0,\n          4.0,\n          2.0\n        ],\n        \"semantic_type\": \"\",\n        \"description\": \"\"\n      }\n    },\n    {\n      \"column\": \"lastSoldOn\",\n      \"properties\": {\n        \"dtype\": \"object\",\n        \"num_unique_values\": 1250,\n        \"samples\": [\n          \"2009-05-12\",\n          \"2008-07-01\",\n          \"2022-01-10\"\n        ],\n        \"semantic_type\": \"\",\n        \"description\": \"\"\n      }\n    },\n    {\n      \"column\": \"listPrice\",\n      \"properties\": {\n        \"dtype\": \"number\",\n        \"std\": 1731703.1205597264,\n        \"min\": 0.0,\n        \"max\": 48000000.0,\n        \"num_unique_values\": 1667,\n        \"samples\": [\n          9100000.0,\n          12900000.0,\n          1199995.0\n        ],\n        \"semantic_type\": \"\",\n        \"description\": \"\"\n      }\n    },\n    {\n      \"column\": \"status\",\n      \"properties\": {\n        \"dtype\": \"category\",\n        \"num_unique_values\": 2,\n        \"samples\": [\n          \"ready_to_build\",\n          \"for_sale\"\n        ],\n        \"semantic_type\": \"\",\n        \"description\": \"\"\n      }\n    }\n  ]\n}"
            }
          },
          "metadata": {},
          "execution_count": 8
        }
      ]
    },
    {
      "cell_type": "markdown",
      "source": [
        "#### 2.3 Exploration <a id= 5> </a>"
      ],
      "metadata": {
        "id": "Y0CtHfTVOpCz"
      }
    },
    {
      "cell_type": "code",
      "source": [
        "df.head(10)\n",
        "df.tail(10)\n",
        "df.nunique()\n",
        "df.columns\n",
        "df.dtypes\n",
        "df.describe()\n",
        "df.info()\n",
        "df.value_counts().to_list()\n",
        "df['beds']\n"
      ],
      "metadata": {
        "colab": {
          "base_uri": "https://localhost:8080/"
        },
        "id": "6pdMXosvKlP-",
        "outputId": "3a1e8a88-f855-4cd9-8048-58603580dedd"
      },
      "execution_count": 26,
      "outputs": [
        {
          "output_type": "execute_result",
          "data": {
            "text/plain": [
              "type            11\n",
              "text          3991\n",
              "year_built     140\n",
              "beds            12\n",
              "baths           16\n",
              "baths_full      14\n",
              "baths_half       5\n",
              "garage          16\n",
              "lot_sqft       554\n",
              "sqft          2176\n",
              "stories          4\n",
              "lastSoldOn    1250\n",
              "listPrice     1667\n",
              "status           2\n",
              "dtype: int64"
            ]
          },
          "metadata": {},
          "execution_count": 26
        }
      ]
    },
    {
      "cell_type": "code",
      "source": [
        "unique_types = []\n",
        "\n",
        "for i in df[\"type\"]:\n",
        "    if i not in unique_types:\n",
        "        unique_types.append(i)\n",
        "\n",
        "print(unique_types)\n",
        "\n"
      ],
      "metadata": {
        "colab": {
          "base_uri": "https://localhost:8080/"
        },
        "id": "6xMtYyH3KstG",
        "outputId": "5c3c14c7-7fa5-4d65-f74d-75ddb45d9253"
      },
      "execution_count": 18,
      "outputs": [
        {
          "output_type": "stream",
          "name": "stdout",
          "text": [
            "['single_family', 'land', 'mobile', 'condos', 'townhomes', 'condo_townhome_rowhome_coop', 'other', 'farm', 'condo_townhome', 'townhouse', 'condo']\n"
          ]
        }
      ]
    },
    {
      "cell_type": "code",
      "source": [
        "unique_types = []\n",
        "\n",
        "for i in df[\"status\"]:\n",
        "    if i not in unique_types:\n",
        "        unique_types.append(i)\n",
        "\n",
        "print(unique_types)\n"
      ],
      "metadata": {
        "colab": {
          "base_uri": "https://localhost:8080/"
        },
        "id": "oloReya8QeZQ",
        "outputId": "6cae7b1e-1077-4565-b91e-289b07792132"
      },
      "execution_count": 24,
      "outputs": [
        {
          "output_type": "stream",
          "name": "stdout",
          "text": [
            "['for_sale', 'ready_to_build']\n"
          ]
        }
      ]
    },
    {
      "cell_type": "markdown",
      "source": [
        "#### 2.4 Drop unuseful columns <a id = 6 > </a>"
      ],
      "metadata": {
        "id": "GkhKeAOcSu2M"
      }
    },
    {
      "cell_type": "code",
      "source": [],
      "metadata": {
        "id": "9sC8bNP3T_Nr"
      },
      "execution_count": null,
      "outputs": []
    }
  ]
}
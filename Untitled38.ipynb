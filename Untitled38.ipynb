{
  "nbformat": 4,
  "nbformat_minor": 0,
  "metadata": {
    "colab": {
      "provenance": [],
      "authorship_tag": "ABX9TyNt/Gm1PZ2INKbOeNjA0EoH",
      "include_colab_link": true
    },
    "kernelspec": {
      "name": "python3",
      "display_name": "Python 3"
    },
    "language_info": {
      "name": "python"
    }
  },
  "cells": [
    {
      "cell_type": "markdown",
      "metadata": {
        "id": "view-in-github",
        "colab_type": "text"
      },
      "source": [
        "<a href=\"https://colab.research.google.com/github/Farazmghm/Real-estate1/blob/main/Untitled38.ipynb\" target=\"_parent\"><img src=\"https://colab.research.google.com/assets/colab-badge.svg\" alt=\"Open In Colab\"/></a>"
      ]
    },
    {
      "cell_type": "code",
      "source": [
        "def quick_sort(list1, low, high):\n",
        "    if low < high:\n",
        "        pivot = low\n",
        "        i = low\n",
        "        j = high\n",
        "\n",
        "        while i < j:\n",
        "            while i < high and list1[i] <= list1[pivot]:\n",
        "                i += 1\n",
        "            while list1[j] > list1[pivot]:\n",
        "                j -= 1\n",
        "\n",
        "            if i < j:\n",
        "                list1[i], list1[j] = list1[j], list1[i]\n",
        "\n",
        "        list1[pivot], list1[j] = list1[j], list1[pivot]\n",
        "\n",
        "        quick_sort(list1, low, j - 1)\n",
        "        quick_sort(list1, j + 1, high)\n"
      ],
      "metadata": {
        "id": "Qz0STvE8xb-k"
      },
      "execution_count": 8,
      "outputs": []
    },
    {
      "cell_type": "code",
      "source": [
        "from random import randint\n",
        "\n",
        "n = 10\n",
        "list1 = [randint(0, n) for i in range(n)]\n",
        "print(\"Unsorted:\", list1)\n",
        "\n",
        "quick_sort(list1, 0, len(list1) - 1)\n",
        "print(\"Sorted:\", list1)\n"
      ],
      "metadata": {
        "colab": {
          "base_uri": "https://localhost:8080/"
        },
        "id": "HOsj5QadvMDW",
        "outputId": "36dd79c1-4baa-46b3-b6e8-c9a8f808068f"
      },
      "execution_count": 9,
      "outputs": [
        {
          "output_type": "stream",
          "name": "stdout",
          "text": [
            "Unsorted: [5, 1, 6, 8, 6, 6, 0, 2, 7, 7]\n",
            "Sorted: [0, 1, 2, 5, 6, 6, 6, 7, 7, 8]\n"
          ]
        }
      ]
    },
    {
      "cell_type": "code",
      "source": [],
      "metadata": {
        "id": "_YqcQ-mWvVRD"
      },
      "execution_count": null,
      "outputs": []
    }
  ]
}
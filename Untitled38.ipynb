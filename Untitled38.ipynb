{
  "nbformat": 4,
  "nbformat_minor": 0,
  "metadata": {
    "colab": {
      "provenance": [],
      "authorship_tag": "ABX9TyMvUWStwr0KuEBbhhAuRlZV",
      "include_colab_link": true
    },
    "kernelspec": {
      "name": "python3",
      "display_name": "Python 3"
    },
    "language_info": {
      "name": "python"
    }
  },
  "cells": [
    {
      "cell_type": "markdown",
      "metadata": {
        "id": "view-in-github",
        "colab_type": "text"
      },
      "source": [
        "<a href=\"https://colab.research.google.com/github/Farazmghm/Real-estate1/blob/main/Untitled38.ipynb\" target=\"_parent\"><img src=\"https://colab.research.google.com/assets/colab-badge.svg\" alt=\"Open In Colab\"/></a>"
      ]
    },
    {
      "cell_type": "code",
      "source": [
        "from random import shuffle\n",
        "lent=10\n",
        "ran=[i for i in range(lent)]\n",
        "shuffle(ran)\n",
        "print(ran)"
      ],
      "metadata": {
        "id": "V8uJEQD9TS53",
        "colab": {
          "base_uri": "https://localhost:8080/"
        },
        "outputId": "340594dc-8523-4afe-83f1-e663d0911b50"
      },
      "execution_count": 1,
      "outputs": [
        {
          "output_type": "stream",
          "name": "stdout",
          "text": [
            "[5, 9, 0, 1, 8, 6, 2, 3, 4, 7]\n"
          ]
        }
      ]
    },
    {
      "cell_type": "code",
      "source": [
        "list1=[]\n",
        "for i in ran:\n",
        "  for j in range(len(list1)):\n",
        "    if i<list1[j]:\n",
        "      list1.insert(j,i)\n",
        "      break\n",
        "  else:\n",
        "    list1.append(i)\n",
        "print(list1)"
      ],
      "metadata": {
        "colab": {
          "base_uri": "https://localhost:8080/"
        },
        "id": "nXJRf-uKSihh",
        "outputId": "152d1695-df55-4d57-9700-b4816b24322b"
      },
      "execution_count": 3,
      "outputs": [
        {
          "output_type": "stream",
          "name": "stdout",
          "text": [
            "[0, 1, 2, 3, 4, 5, 6, 7, 8, 9]\n"
          ]
        }
      ]
    },
    {
      "cell_type": "code",
      "source": [],
      "metadata": {
        "id": "Fk5KhQZhTluZ"
      },
      "execution_count": null,
      "outputs": []
    }
  ]
}
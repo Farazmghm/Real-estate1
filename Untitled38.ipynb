{
  "nbformat": 4,
  "nbformat_minor": 0,
  "metadata": {
    "colab": {
      "provenance": [],
      "authorship_tag": "ABX9TyMGYTmsgEoHkXh1zVtoznB6",
      "include_colab_link": true
    },
    "kernelspec": {
      "name": "python3",
      "display_name": "Python 3"
    },
    "language_info": {
      "name": "python"
    }
  },
  "cells": [
    {
      "cell_type": "markdown",
      "metadata": {
        "id": "view-in-github",
        "colab_type": "text"
      },
      "source": [
        "<a href=\"https://colab.research.google.com/github/Farazmghm/Real-estate1/blob/main/Untitled38.ipynb\" target=\"_parent\"><img src=\"https://colab.research.google.com/assets/colab-badge.svg\" alt=\"Open In Colab\"/></a>"
      ]
    },
    {
      "cell_type": "code",
      "source": [
        "lst1=[1,2,3,4,5,6]\n",
        "lst2=[4,7,9]\n",
        "\n",
        "len1=len(lst1)\n",
        "len2=len(lst2)\n",
        "lst3=[]\n",
        "i=j=0\n",
        "while i<len1 and j <len2:\n",
        "  if lst1[i] <lst2[j]:\n",
        "    lst3.append(lst1[i])\n",
        "    i+=1\n",
        "  else:\n",
        "    lst3.append(lst2[j])\n",
        "    j+=1\n",
        "lst3+=lst1[i:]\n",
        "lst3+=lst2[j:]\n",
        "print(lst3)"
      ],
      "metadata": {
        "id": "TMT0atL7l5Na",
        "colab": {
          "base_uri": "https://localhost:8080/"
        },
        "outputId": "7ac2af21-0925-4c11-8f19-634ae694820f"
      },
      "execution_count": 2,
      "outputs": [
        {
          "output_type": "stream",
          "name": "stdout",
          "text": [
            "[1, 2, 3, 4, 4, 5, 6, 7, 9]\n"
          ]
        }
      ]
    },
    {
      "cell_type": "code",
      "source": [],
      "metadata": {
        "id": "mJhJt07toPDb"
      },
      "execution_count": null,
      "outputs": []
    }
  ]
}
{
  "nbformat": 4,
  "nbformat_minor": 0,
  "metadata": {
    "colab": {
      "provenance": [],
      "authorship_tag": "ABX9TyMwxtq6MsuZzBu4RbOl2rWO",
      "include_colab_link": true
    },
    "kernelspec": {
      "name": "python3",
      "display_name": "Python 3"
    },
    "language_info": {
      "name": "python"
    }
  },
  "cells": [
    {
      "cell_type": "markdown",
      "metadata": {
        "id": "view-in-github",
        "colab_type": "text"
      },
      "source": [
        "<a href=\"https://colab.research.google.com/github/Farazmghm/Real-estate1/blob/main/Untitled38.ipynb\" target=\"_parent\"><img src=\"https://colab.research.google.com/assets/colab-badge.svg\" alt=\"Open In Colab\"/></a>"
      ]
    },
    {
      "cell_type": "code",
      "source": [
        "def merge(lst1,lst2):\n",
        "  len1=len(lst1)\n",
        "  len2=len(lst2)\n",
        "  lst3=[]\n",
        "  i=j=0\n",
        "  while i<len1 and j<len2:\n",
        "     if lst1[i]<lst2[j]:\n",
        "        lst3.append(lst1[i])\n",
        "        i+=1\n",
        "     else:\n",
        "      lst3.append(lst2[j])\n",
        "      j+=1\n",
        "  lst3+=lst1[i:]\n",
        "  lst3+=lst2[j:]\n",
        "  return lst3\n"
      ],
      "metadata": {
        "colab": {
          "base_uri": "https://localhost:8080/"
        },
        "id": "mJhJt07toPDb",
        "outputId": "ff2214e8-19a0-4fcc-c2dc-c8029de4cbc8"
      },
      "execution_count": 6,
      "outputs": [
        {
          "output_type": "execute_result",
          "data": {
            "text/plain": [
              "[2, 3, 3, 4, 5, 6, 6, 7, 8]"
            ]
          },
          "metadata": {},
          "execution_count": 6
        }
      ]
    },
    {
      "cell_type": "code",
      "source": [
        "def merge_sort(list1):\n",
        "  if len(list1)==1:\n",
        "    return list1\n",
        "  else:\n",
        "    mid=len(list1)//2\n",
        "    left=merge_sort(list1[:mid])\n",
        "    right=merge_sort(list1[mid:])\n",
        "  left=merge_sort(left)\n",
        "  right=merge_sort(right)\n",
        "  return merge(left,right)\n",
        "merge_sort([1,6,4,5,7,8,9,5])"
      ],
      "metadata": {
        "colab": {
          "base_uri": "https://localhost:8080/"
        },
        "id": "hxVvaJwdvsrs",
        "outputId": "98d36e32-70ed-45f6-dd3b-87df9efa8425"
      },
      "execution_count": 8,
      "outputs": [
        {
          "output_type": "execute_result",
          "data": {
            "text/plain": [
              "[1, 4, 5, 5, 6, 7, 8, 9]"
            ]
          },
          "metadata": {},
          "execution_count": 8
        }
      ]
    },
    {
      "cell_type": "code",
      "source": [],
      "metadata": {
        "id": "Qz0STvE8xb-k"
      },
      "execution_count": null,
      "outputs": []
    }
  ]
}
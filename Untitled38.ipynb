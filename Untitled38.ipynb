{
  "nbformat": 4,
  "nbformat_minor": 0,
  "metadata": {
    "colab": {
      "provenance": [],
      "authorship_tag": "ABX9TyNBYrPeGKp3+eeyyYvDvwyA",
      "include_colab_link": true
    },
    "kernelspec": {
      "name": "python3",
      "display_name": "Python 3"
    },
    "language_info": {
      "name": "python"
    }
  },
  "cells": [
    {
      "cell_type": "markdown",
      "metadata": {
        "id": "view-in-github",
        "colab_type": "text"
      },
      "source": [
        "<a href=\"https://colab.research.google.com/github/Farazmghm/Real-estate1/blob/main/Untitled38.ipynb\" target=\"_parent\"><img src=\"https://colab.research.google.com/assets/colab-badge.svg\" alt=\"Open In Colab\"/></a>"
      ]
    },
    {
      "cell_type": "code",
      "execution_count": null,
      "metadata": {
        "colab": {
          "base_uri": "https://localhost:8080/"
        },
        "id": "izT6fuFIR0nA",
        "outputId": "1d937e57-551c-47f6-8b95-307c8d0a8798"
      },
      "outputs": [
        {
          "output_type": "stream",
          "name": "stdout",
          "text": [
            "[1, 6, 8, 7, 4, 5, 2, 0, 8, 0]\n"
          ]
        }
      ],
      "source": [
        "from random import randint\n",
        "len=10\n",
        "ran=[randint(0,len)  for i in range(len)]\n",
        "print(ran)"
      ]
    },
    {
      "cell_type": "code",
      "source": [
        "for i in range(len-1):\n",
        "  for j in range(len-i-1):\n",
        "    if ran[j]>ran[j+1]:\n",
        "      ran[j],ran[j+1]=ran[j+1],ran[j]\n",
        "print(ran)\n"
      ],
      "metadata": {
        "colab": {
          "base_uri": "https://localhost:8080/"
        },
        "id": "-c3L8-BvSMKX",
        "outputId": "99e25bab-d229-4c83-d0b1-3d9b7ccb08cf"
      },
      "execution_count": null,
      "outputs": [
        {
          "output_type": "stream",
          "name": "stdout",
          "text": [
            "[0, 0, 1, 2, 4, 5, 6, 7, 8, 8]\n"
          ]
        }
      ]
    },
    {
      "cell_type": "code",
      "source": [],
      "metadata": {
        "id": "V8uJEQD9TS53"
      },
      "execution_count": null,
      "outputs": []
    }
  ]
}
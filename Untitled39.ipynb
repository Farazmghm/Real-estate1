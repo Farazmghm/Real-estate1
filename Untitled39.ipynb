{
  "nbformat": 4,
  "nbformat_minor": 0,
  "metadata": {
    "colab": {
      "provenance": [],
      "authorship_tag": "ABX9TyMPGZBUN3AdMGFVJBe8tjqO",
      "include_colab_link": true
    },
    "kernelspec": {
      "name": "python3",
      "display_name": "Python 3"
    },
    "language_info": {
      "name": "python"
    }
  },
  "cells": [
    {
      "cell_type": "markdown",
      "metadata": {
        "id": "view-in-github",
        "colab_type": "text"
      },
      "source": [
        "<a href=\"https://colab.research.google.com/github/Farazmghm/Real-estate1/blob/main/Untitled39.ipynb\" target=\"_parent\"><img src=\"https://colab.research.google.com/assets/colab-badge.svg\" alt=\"Open In Colab\"/></a>"
      ]
    },
    {
      "cell_type": "code",
      "execution_count": 4,
      "metadata": {
        "colab": {
          "base_uri": "https://localhost:8080/"
        },
        "id": "ATMHaIqqGDkf",
        "outputId": "17eb1dd2-5edd-48a6-d3ca-084343660e1e"
      },
      "outputs": [
        {
          "output_type": "stream",
          "name": "stderr",
          "text": [
            "WARNING:root:2 is equal to:8\n",
            "CRITICAL:root:2 is equal to:8\n"
          ]
        }
      ],
      "source": [
        "import logging\n",
        "logging.basicConfig(filename='debug.log',level=logging.DEBUG)\n",
        "\n",
        "def cube(x):\n",
        "  return x*x*x\n",
        "\n",
        "x=2\n",
        "logging.warning(f\"{x} is equal to:{cube(x)}\")\n",
        "logging.debug(f\"{x} is equal to:{cube(x)}\")\n",
        "logging.critical(f\"{x} is equal to:{cube(x)}\")"
      ]
    },
    {
      "cell_type": "code",
      "source": [],
      "metadata": {
        "id": "kUIs4emtGrOx"
      },
      "execution_count": null,
      "outputs": []
    }
  ]
}